{
 "cells": [
  {
   "cell_type": "code",
   "execution_count": 1,
   "metadata": {
    "collapsed": true
   },
   "outputs": [],
   "source": [
    "import pandas as pd"
   ]
  },
  {
   "cell_type": "code",
   "execution_count": 2,
   "outputs": [],
   "source": [
    "in_time = pd.read_csv(\"data_set/in_time.csv\")\n",
    "out_time = pd.read_csv(\"data_set/out_time.csv\")\n"
   ],
   "metadata": {
    "collapsed": false,
    "pycharm": {
     "name": "#%%\n"
    }
   }
  },
  {
   "cell_type": "code",
   "execution_count": 4,
   "outputs": [
    {
     "data": {
      "text/plain": "(Unnamed: 0      int64\n 2015-01-01    float64\n 2015-01-02     object\n 2015-01-05     object\n 2015-01-06     object\n                ...   \n 2015-12-25    float64\n 2015-12-28     object\n 2015-12-29     object\n 2015-12-30     object\n 2015-12-31     object\n Length: 262, dtype: object,\n Unnamed: 0      int64\n 2015-01-01    float64\n 2015-01-02     object\n 2015-01-05     object\n 2015-01-06     object\n                ...   \n 2015-12-25    float64\n 2015-12-28     object\n 2015-12-29     object\n 2015-12-30     object\n 2015-12-31     object\n Length: 262, dtype: object)"
     },
     "execution_count": 4,
     "metadata": {},
     "output_type": "execute_result"
    }
   ],
   "source": [
    "in_time.dtypes,out_time.dtypes"
   ],
   "metadata": {
    "collapsed": false,
    "pycharm": {
     "name": "#%%\n"
    }
   }
  },
  {
   "cell_type": "code",
   "execution_count": 7,
   "outputs": [
    {
     "data": {
      "text/plain": "Unnamed: 0    2205.5\n2015-01-01       NaN\n2015-01-14       NaN\n2015-01-26       NaN\n2015-03-05       NaN\n2015-05-01       NaN\n2015-07-17       NaN\n2015-09-17       NaN\n2015-10-02       NaN\n2015-11-09       NaN\n2015-11-10       NaN\n2015-11-11       NaN\n2015-12-25       NaN\ndtype: float64"
     },
     "execution_count": 7,
     "metadata": {},
     "output_type": "execute_result"
    }
   ],
   "source": [
    "in_time.mean(axis=0)"
   ],
   "metadata": {
    "collapsed": false,
    "pycharm": {
     "name": "#%%\n"
    }
   }
  },
  {
   "cell_type": "code",
   "execution_count": 8,
   "outputs": [
    {
     "data": {
      "text/plain": "   Unnamed: 0  2015-01-01           2015-01-02           2015-01-05  \\\n0           1         NaN  2015-01-02 09:43:45  2015-01-05 10:08:48   \n1           2         NaN  2015-01-02 10:15:44  2015-01-05 10:21:05   \n2           3         NaN  2015-01-02 10:17:41  2015-01-05 09:50:50   \n3           4         NaN  2015-01-02 10:05:06  2015-01-05 09:56:32   \n4           5         NaN  2015-01-02 10:28:17  2015-01-05 09:49:58   \n\n            2015-01-06           2015-01-07           2015-01-08  \\\n0  2015-01-06 09:54:26  2015-01-07 09:34:31  2015-01-08 09:51:09   \n1                  NaN  2015-01-07 09:45:17  2015-01-08 10:09:04   \n2  2015-01-06 10:14:13  2015-01-07 09:47:27  2015-01-08 10:03:40   \n3  2015-01-06 10:11:07  2015-01-07 09:37:30  2015-01-08 10:02:08   \n4  2015-01-06 09:45:28  2015-01-07 09:49:37  2015-01-08 10:19:44   \n\n            2015-01-09           2015-01-12           2015-01-13  ...  \\\n0  2015-01-09 10:09:25  2015-01-12 09:42:53  2015-01-13 10:13:06  ...   \n1  2015-01-09 09:43:26  2015-01-12 10:00:07  2015-01-13 10:43:29  ...   \n2  2015-01-09 10:05:49  2015-01-12 10:03:47  2015-01-13 10:21:26  ...   \n3  2015-01-09 10:08:12  2015-01-12 10:13:42  2015-01-13 09:53:22  ...   \n4  2015-01-09 10:00:50  2015-01-12 10:29:27  2015-01-13 09:59:32  ...   \n\n            2015-12-18           2015-12-21           2015-12-22  \\\n0                  NaN  2015-12-21 09:55:29  2015-12-22 10:04:06   \n1  2015-12-18 10:37:17  2015-12-21 09:49:02  2015-12-22 10:33:51   \n2  2015-12-18 10:15:14  2015-12-21 10:10:28  2015-12-22 09:44:44   \n3  2015-12-18 10:17:38  2015-12-21 09:58:21  2015-12-22 10:04:25   \n4  2015-12-18 09:58:35  2015-12-21 10:03:41  2015-12-22 10:10:30   \n\n            2015-12-23           2015-12-24 2015-12-25           2015-12-28  \\\n0  2015-12-23 10:14:27  2015-12-24 10:11:35        NaN  2015-12-28 10:13:41   \n1  2015-12-23 10:12:10                  NaN        NaN  2015-12-28 09:31:45   \n2  2015-12-23 10:15:54  2015-12-24 10:07:26        NaN  2015-12-28 09:42:05   \n3  2015-12-23 10:11:46  2015-12-24 09:43:15        NaN  2015-12-28 09:52:44   \n4  2015-12-23 10:13:36  2015-12-24 09:44:24        NaN  2015-12-28 10:05:15   \n\n            2015-12-29           2015-12-30           2015-12-31  \n0  2015-12-29 10:03:36  2015-12-30 09:54:12  2015-12-31 10:12:44  \n1  2015-12-29 09:55:49  2015-12-30 10:32:25  2015-12-31 09:27:20  \n2  2015-12-29 09:43:36  2015-12-30 09:34:05  2015-12-31 10:28:39  \n3  2015-12-29 09:33:16  2015-12-30 10:18:12  2015-12-31 10:01:15  \n4  2015-12-29 10:30:53  2015-12-30 09:18:21  2015-12-31 09:41:09  \n\n[5 rows x 262 columns]",
      "text/html": "<div>\n<style scoped>\n    .dataframe tbody tr th:only-of-type {\n        vertical-align: middle;\n    }\n\n    .dataframe tbody tr th {\n        vertical-align: top;\n    }\n\n    .dataframe thead th {\n        text-align: right;\n    }\n</style>\n<table border=\"1\" class=\"dataframe\">\n  <thead>\n    <tr style=\"text-align: right;\">\n      <th></th>\n      <th>Unnamed: 0</th>\n      <th>2015-01-01</th>\n      <th>2015-01-02</th>\n      <th>2015-01-05</th>\n      <th>2015-01-06</th>\n      <th>2015-01-07</th>\n      <th>2015-01-08</th>\n      <th>2015-01-09</th>\n      <th>2015-01-12</th>\n      <th>2015-01-13</th>\n      <th>...</th>\n      <th>2015-12-18</th>\n      <th>2015-12-21</th>\n      <th>2015-12-22</th>\n      <th>2015-12-23</th>\n      <th>2015-12-24</th>\n      <th>2015-12-25</th>\n      <th>2015-12-28</th>\n      <th>2015-12-29</th>\n      <th>2015-12-30</th>\n      <th>2015-12-31</th>\n    </tr>\n  </thead>\n  <tbody>\n    <tr>\n      <th>0</th>\n      <td>1</td>\n      <td>NaN</td>\n      <td>2015-01-02 09:43:45</td>\n      <td>2015-01-05 10:08:48</td>\n      <td>2015-01-06 09:54:26</td>\n      <td>2015-01-07 09:34:31</td>\n      <td>2015-01-08 09:51:09</td>\n      <td>2015-01-09 10:09:25</td>\n      <td>2015-01-12 09:42:53</td>\n      <td>2015-01-13 10:13:06</td>\n      <td>...</td>\n      <td>NaN</td>\n      <td>2015-12-21 09:55:29</td>\n      <td>2015-12-22 10:04:06</td>\n      <td>2015-12-23 10:14:27</td>\n      <td>2015-12-24 10:11:35</td>\n      <td>NaN</td>\n      <td>2015-12-28 10:13:41</td>\n      <td>2015-12-29 10:03:36</td>\n      <td>2015-12-30 09:54:12</td>\n      <td>2015-12-31 10:12:44</td>\n    </tr>\n    <tr>\n      <th>1</th>\n      <td>2</td>\n      <td>NaN</td>\n      <td>2015-01-02 10:15:44</td>\n      <td>2015-01-05 10:21:05</td>\n      <td>NaN</td>\n      <td>2015-01-07 09:45:17</td>\n      <td>2015-01-08 10:09:04</td>\n      <td>2015-01-09 09:43:26</td>\n      <td>2015-01-12 10:00:07</td>\n      <td>2015-01-13 10:43:29</td>\n      <td>...</td>\n      <td>2015-12-18 10:37:17</td>\n      <td>2015-12-21 09:49:02</td>\n      <td>2015-12-22 10:33:51</td>\n      <td>2015-12-23 10:12:10</td>\n      <td>NaN</td>\n      <td>NaN</td>\n      <td>2015-12-28 09:31:45</td>\n      <td>2015-12-29 09:55:49</td>\n      <td>2015-12-30 10:32:25</td>\n      <td>2015-12-31 09:27:20</td>\n    </tr>\n    <tr>\n      <th>2</th>\n      <td>3</td>\n      <td>NaN</td>\n      <td>2015-01-02 10:17:41</td>\n      <td>2015-01-05 09:50:50</td>\n      <td>2015-01-06 10:14:13</td>\n      <td>2015-01-07 09:47:27</td>\n      <td>2015-01-08 10:03:40</td>\n      <td>2015-01-09 10:05:49</td>\n      <td>2015-01-12 10:03:47</td>\n      <td>2015-01-13 10:21:26</td>\n      <td>...</td>\n      <td>2015-12-18 10:15:14</td>\n      <td>2015-12-21 10:10:28</td>\n      <td>2015-12-22 09:44:44</td>\n      <td>2015-12-23 10:15:54</td>\n      <td>2015-12-24 10:07:26</td>\n      <td>NaN</td>\n      <td>2015-12-28 09:42:05</td>\n      <td>2015-12-29 09:43:36</td>\n      <td>2015-12-30 09:34:05</td>\n      <td>2015-12-31 10:28:39</td>\n    </tr>\n    <tr>\n      <th>3</th>\n      <td>4</td>\n      <td>NaN</td>\n      <td>2015-01-02 10:05:06</td>\n      <td>2015-01-05 09:56:32</td>\n      <td>2015-01-06 10:11:07</td>\n      <td>2015-01-07 09:37:30</td>\n      <td>2015-01-08 10:02:08</td>\n      <td>2015-01-09 10:08:12</td>\n      <td>2015-01-12 10:13:42</td>\n      <td>2015-01-13 09:53:22</td>\n      <td>...</td>\n      <td>2015-12-18 10:17:38</td>\n      <td>2015-12-21 09:58:21</td>\n      <td>2015-12-22 10:04:25</td>\n      <td>2015-12-23 10:11:46</td>\n      <td>2015-12-24 09:43:15</td>\n      <td>NaN</td>\n      <td>2015-12-28 09:52:44</td>\n      <td>2015-12-29 09:33:16</td>\n      <td>2015-12-30 10:18:12</td>\n      <td>2015-12-31 10:01:15</td>\n    </tr>\n    <tr>\n      <th>4</th>\n      <td>5</td>\n      <td>NaN</td>\n      <td>2015-01-02 10:28:17</td>\n      <td>2015-01-05 09:49:58</td>\n      <td>2015-01-06 09:45:28</td>\n      <td>2015-01-07 09:49:37</td>\n      <td>2015-01-08 10:19:44</td>\n      <td>2015-01-09 10:00:50</td>\n      <td>2015-01-12 10:29:27</td>\n      <td>2015-01-13 09:59:32</td>\n      <td>...</td>\n      <td>2015-12-18 09:58:35</td>\n      <td>2015-12-21 10:03:41</td>\n      <td>2015-12-22 10:10:30</td>\n      <td>2015-12-23 10:13:36</td>\n      <td>2015-12-24 09:44:24</td>\n      <td>NaN</td>\n      <td>2015-12-28 10:05:15</td>\n      <td>2015-12-29 10:30:53</td>\n      <td>2015-12-30 09:18:21</td>\n      <td>2015-12-31 09:41:09</td>\n    </tr>\n  </tbody>\n</table>\n<p>5 rows × 262 columns</p>\n</div>"
     },
     "execution_count": 8,
     "metadata": {},
     "output_type": "execute_result"
    }
   ],
   "source": [
    "in_time.head()\n"
   ],
   "metadata": {
    "collapsed": false,
    "pycharm": {
     "name": "#%%\n"
    }
   }
  },
  {
   "cell_type": "code",
   "execution_count": 9,
   "outputs": [
    {
     "data": {
      "text/plain": "   Unnamed: 0  2015-01-01           2015-01-02           2015-01-05  \\\n0           1         NaN  2015-01-02 16:56:15  2015-01-05 17:20:11   \n1           2         NaN  2015-01-02 18:22:17  2015-01-05 17:48:22   \n2           3         NaN  2015-01-02 16:59:14  2015-01-05 17:06:46   \n3           4         NaN  2015-01-02 17:25:24  2015-01-05 17:14:03   \n4           5         NaN  2015-01-02 18:31:37  2015-01-05 17:49:15   \n\n            2015-01-06           2015-01-07           2015-01-08  \\\n0  2015-01-06 17:19:05  2015-01-07 16:34:55  2015-01-08 17:08:32   \n1                  NaN  2015-01-07 17:09:06  2015-01-08 17:34:04   \n2  2015-01-06 16:38:32  2015-01-07 16:33:21  2015-01-08 17:24:22   \n3  2015-01-06 17:07:42  2015-01-07 16:32:40  2015-01-08 16:53:11   \n4  2015-01-06 17:26:25  2015-01-07 17:37:59  2015-01-08 17:59:28   \n\n            2015-01-09           2015-01-12           2015-01-13  ...  \\\n0  2015-01-09 17:38:29  2015-01-12 16:58:39  2015-01-13 18:02:58  ...   \n1  2015-01-09 16:52:29  2015-01-12 17:36:48  2015-01-13 18:00:13  ...   \n2  2015-01-09 16:57:30  2015-01-12 17:28:54  2015-01-13 17:21:25  ...   \n3  2015-01-09 17:19:47  2015-01-12 17:13:37  2015-01-13 17:11:45  ...   \n4  2015-01-09 17:44:08  2015-01-12 18:51:21  2015-01-13 18:14:58  ...   \n\n            2015-12-18           2015-12-21           2015-12-22  \\\n0                  NaN  2015-12-21 17:15:50  2015-12-22 17:27:51   \n1  2015-12-18 18:31:28  2015-12-21 17:34:16  2015-12-22 18:16:35   \n2  2015-12-18 17:02:23  2015-12-21 17:20:17  2015-12-22 16:32:50   \n3  2015-12-18 17:55:23  2015-12-21 16:49:09  2015-12-22 17:24:00   \n4  2015-12-18 17:52:48  2015-12-21 17:43:35  2015-12-22 18:07:57   \n\n            2015-12-23           2015-12-24 2015-12-25           2015-12-28  \\\n0  2015-12-23 16:44:44  2015-12-24 17:47:22        NaN  2015-12-28 18:00:07   \n1  2015-12-23 17:38:18                  NaN        NaN  2015-12-28 17:08:38   \n2  2015-12-23 16:59:43  2015-12-24 16:58:25        NaN  2015-12-28 16:43:31   \n3  2015-12-23 17:36:35  2015-12-24 16:48:21        NaN  2015-12-28 17:19:34   \n4  2015-12-23 18:00:49  2015-12-24 17:59:22        NaN  2015-12-28 17:44:59   \n\n            2015-12-29           2015-12-30           2015-12-31  \n0  2015-12-29 17:22:30  2015-12-30 17:40:56  2015-12-31 17:17:33  \n1  2015-12-29 17:54:46  2015-12-30 18:31:35  2015-12-31 17:40:58  \n2  2015-12-29 17:09:56  2015-12-30 17:06:25  2015-12-31 17:15:50  \n3  2015-12-29 16:58:16  2015-12-30 17:40:11  2015-12-31 17:09:14  \n4  2015-12-29 18:47:00  2015-12-30 17:15:33  2015-12-31 17:42:14  \n\n[5 rows x 262 columns]",
      "text/html": "<div>\n<style scoped>\n    .dataframe tbody tr th:only-of-type {\n        vertical-align: middle;\n    }\n\n    .dataframe tbody tr th {\n        vertical-align: top;\n    }\n\n    .dataframe thead th {\n        text-align: right;\n    }\n</style>\n<table border=\"1\" class=\"dataframe\">\n  <thead>\n    <tr style=\"text-align: right;\">\n      <th></th>\n      <th>Unnamed: 0</th>\n      <th>2015-01-01</th>\n      <th>2015-01-02</th>\n      <th>2015-01-05</th>\n      <th>2015-01-06</th>\n      <th>2015-01-07</th>\n      <th>2015-01-08</th>\n      <th>2015-01-09</th>\n      <th>2015-01-12</th>\n      <th>2015-01-13</th>\n      <th>...</th>\n      <th>2015-12-18</th>\n      <th>2015-12-21</th>\n      <th>2015-12-22</th>\n      <th>2015-12-23</th>\n      <th>2015-12-24</th>\n      <th>2015-12-25</th>\n      <th>2015-12-28</th>\n      <th>2015-12-29</th>\n      <th>2015-12-30</th>\n      <th>2015-12-31</th>\n    </tr>\n  </thead>\n  <tbody>\n    <tr>\n      <th>0</th>\n      <td>1</td>\n      <td>NaN</td>\n      <td>2015-01-02 16:56:15</td>\n      <td>2015-01-05 17:20:11</td>\n      <td>2015-01-06 17:19:05</td>\n      <td>2015-01-07 16:34:55</td>\n      <td>2015-01-08 17:08:32</td>\n      <td>2015-01-09 17:38:29</td>\n      <td>2015-01-12 16:58:39</td>\n      <td>2015-01-13 18:02:58</td>\n      <td>...</td>\n      <td>NaN</td>\n      <td>2015-12-21 17:15:50</td>\n      <td>2015-12-22 17:27:51</td>\n      <td>2015-12-23 16:44:44</td>\n      <td>2015-12-24 17:47:22</td>\n      <td>NaN</td>\n      <td>2015-12-28 18:00:07</td>\n      <td>2015-12-29 17:22:30</td>\n      <td>2015-12-30 17:40:56</td>\n      <td>2015-12-31 17:17:33</td>\n    </tr>\n    <tr>\n      <th>1</th>\n      <td>2</td>\n      <td>NaN</td>\n      <td>2015-01-02 18:22:17</td>\n      <td>2015-01-05 17:48:22</td>\n      <td>NaN</td>\n      <td>2015-01-07 17:09:06</td>\n      <td>2015-01-08 17:34:04</td>\n      <td>2015-01-09 16:52:29</td>\n      <td>2015-01-12 17:36:48</td>\n      <td>2015-01-13 18:00:13</td>\n      <td>...</td>\n      <td>2015-12-18 18:31:28</td>\n      <td>2015-12-21 17:34:16</td>\n      <td>2015-12-22 18:16:35</td>\n      <td>2015-12-23 17:38:18</td>\n      <td>NaN</td>\n      <td>NaN</td>\n      <td>2015-12-28 17:08:38</td>\n      <td>2015-12-29 17:54:46</td>\n      <td>2015-12-30 18:31:35</td>\n      <td>2015-12-31 17:40:58</td>\n    </tr>\n    <tr>\n      <th>2</th>\n      <td>3</td>\n      <td>NaN</td>\n      <td>2015-01-02 16:59:14</td>\n      <td>2015-01-05 17:06:46</td>\n      <td>2015-01-06 16:38:32</td>\n      <td>2015-01-07 16:33:21</td>\n      <td>2015-01-08 17:24:22</td>\n      <td>2015-01-09 16:57:30</td>\n      <td>2015-01-12 17:28:54</td>\n      <td>2015-01-13 17:21:25</td>\n      <td>...</td>\n      <td>2015-12-18 17:02:23</td>\n      <td>2015-12-21 17:20:17</td>\n      <td>2015-12-22 16:32:50</td>\n      <td>2015-12-23 16:59:43</td>\n      <td>2015-12-24 16:58:25</td>\n      <td>NaN</td>\n      <td>2015-12-28 16:43:31</td>\n      <td>2015-12-29 17:09:56</td>\n      <td>2015-12-30 17:06:25</td>\n      <td>2015-12-31 17:15:50</td>\n    </tr>\n    <tr>\n      <th>3</th>\n      <td>4</td>\n      <td>NaN</td>\n      <td>2015-01-02 17:25:24</td>\n      <td>2015-01-05 17:14:03</td>\n      <td>2015-01-06 17:07:42</td>\n      <td>2015-01-07 16:32:40</td>\n      <td>2015-01-08 16:53:11</td>\n      <td>2015-01-09 17:19:47</td>\n      <td>2015-01-12 17:13:37</td>\n      <td>2015-01-13 17:11:45</td>\n      <td>...</td>\n      <td>2015-12-18 17:55:23</td>\n      <td>2015-12-21 16:49:09</td>\n      <td>2015-12-22 17:24:00</td>\n      <td>2015-12-23 17:36:35</td>\n      <td>2015-12-24 16:48:21</td>\n      <td>NaN</td>\n      <td>2015-12-28 17:19:34</td>\n      <td>2015-12-29 16:58:16</td>\n      <td>2015-12-30 17:40:11</td>\n      <td>2015-12-31 17:09:14</td>\n    </tr>\n    <tr>\n      <th>4</th>\n      <td>5</td>\n      <td>NaN</td>\n      <td>2015-01-02 18:31:37</td>\n      <td>2015-01-05 17:49:15</td>\n      <td>2015-01-06 17:26:25</td>\n      <td>2015-01-07 17:37:59</td>\n      <td>2015-01-08 17:59:28</td>\n      <td>2015-01-09 17:44:08</td>\n      <td>2015-01-12 18:51:21</td>\n      <td>2015-01-13 18:14:58</td>\n      <td>...</td>\n      <td>2015-12-18 17:52:48</td>\n      <td>2015-12-21 17:43:35</td>\n      <td>2015-12-22 18:07:57</td>\n      <td>2015-12-23 18:00:49</td>\n      <td>2015-12-24 17:59:22</td>\n      <td>NaN</td>\n      <td>2015-12-28 17:44:59</td>\n      <td>2015-12-29 18:47:00</td>\n      <td>2015-12-30 17:15:33</td>\n      <td>2015-12-31 17:42:14</td>\n    </tr>\n  </tbody>\n</table>\n<p>5 rows × 262 columns</p>\n</div>"
     },
     "execution_count": 9,
     "metadata": {},
     "output_type": "execute_result"
    }
   ],
   "source": [
    "out_time.head()"
   ],
   "metadata": {
    "collapsed": false,
    "pycharm": {
     "name": "#%%\n"
    }
   }
  },
  {
   "cell_type": "code",
   "execution_count": 19,
   "outputs": [
    {
     "data": {
      "text/plain": "   Unnamed: 0      2015-01-01      2015-01-02      2015-01-05      2015-01-06  \\\n0           0 0 days 08:00:00 0 days 07:12:30 0 days 07:11:23 0 days 07:24:39   \n1           0 0 days 08:00:00 0 days 08:06:33 0 days 07:27:17 0 days 08:00:00   \n2           0 0 days 08:00:00 0 days 06:41:33 0 days 07:15:56 0 days 06:24:19   \n3           0 0 days 08:00:00 0 days 07:20:18 0 days 07:17:31 0 days 06:56:35   \n4           0 0 days 08:00:00 0 days 08:03:20 0 days 07:59:17 0 days 07:40:57   \n\n       2015-01-07      2015-01-08      2015-01-09      2015-01-12  \\\n0 0 days 07:00:24 0 days 07:17:23 0 days 07:29:04 0 days 07:15:46   \n1 0 days 07:23:49 0 days 07:25:00 0 days 07:09:03 0 days 07:36:41   \n2 0 days 06:45:54 0 days 07:20:42 0 days 06:51:41 0 days 07:25:07   \n3 0 days 06:55:10 0 days 06:51:03 0 days 07:11:35 0 days 06:59:55   \n4 0 days 07:48:22 0 days 07:39:44 0 days 07:43:18 0 days 08:21:54   \n\n       2015-01-13  ...      2015-12-18      2015-12-21      2015-12-22  \\\n0 0 days 07:49:52  ... 0 days 08:00:00 0 days 07:20:21 0 days 07:23:45   \n1 0 days 07:16:44  ... 0 days 07:54:11 0 days 07:45:14 0 days 07:42:44   \n2 0 days 06:59:59  ... 0 days 06:47:09 0 days 07:09:49 0 days 06:48:06   \n3 0 days 07:18:23  ... 0 days 07:37:45 0 days 06:50:48 0 days 07:19:35   \n4 0 days 08:15:26  ... 0 days 07:54:13 0 days 07:39:54 0 days 07:57:27   \n\n       2015-12-23      2015-12-24      2015-12-25      2015-12-28  \\\n0 0 days 06:30:17 0 days 07:35:47 0 days 08:00:00 0 days 07:46:26   \n1 0 days 07:26:08 0 days 08:00:00 0 days 08:00:00 0 days 07:36:53   \n2 0 days 06:43:49 0 days 06:50:59 0 days 08:00:00 0 days 07:01:26   \n3 0 days 07:24:49 0 days 07:05:06 0 days 08:00:00 0 days 07:26:50   \n4 0 days 07:47:13 0 days 08:14:58 0 days 08:00:00 0 days 07:39:44   \n\n       2015-12-29      2015-12-30      2015-12-31  \n0 0 days 07:18:54 0 days 07:46:44 0 days 07:04:49  \n1 0 days 07:58:57 0 days 07:59:10 0 days 08:13:38  \n2 0 days 07:26:20 0 days 07:32:20 0 days 06:47:11  \n3 0 days 07:25:00 0 days 07:21:59 0 days 07:07:59  \n4 0 days 08:16:07 0 days 07:57:12 0 days 08:01:05  \n\n[5 rows x 262 columns]",
      "text/html": "<div>\n<style scoped>\n    .dataframe tbody tr th:only-of-type {\n        vertical-align: middle;\n    }\n\n    .dataframe tbody tr th {\n        vertical-align: top;\n    }\n\n    .dataframe thead th {\n        text-align: right;\n    }\n</style>\n<table border=\"1\" class=\"dataframe\">\n  <thead>\n    <tr style=\"text-align: right;\">\n      <th></th>\n      <th>Unnamed: 0</th>\n      <th>2015-01-01</th>\n      <th>2015-01-02</th>\n      <th>2015-01-05</th>\n      <th>2015-01-06</th>\n      <th>2015-01-07</th>\n      <th>2015-01-08</th>\n      <th>2015-01-09</th>\n      <th>2015-01-12</th>\n      <th>2015-01-13</th>\n      <th>...</th>\n      <th>2015-12-18</th>\n      <th>2015-12-21</th>\n      <th>2015-12-22</th>\n      <th>2015-12-23</th>\n      <th>2015-12-24</th>\n      <th>2015-12-25</th>\n      <th>2015-12-28</th>\n      <th>2015-12-29</th>\n      <th>2015-12-30</th>\n      <th>2015-12-31</th>\n    </tr>\n  </thead>\n  <tbody>\n    <tr>\n      <th>0</th>\n      <td>0</td>\n      <td>0 days 08:00:00</td>\n      <td>0 days 07:12:30</td>\n      <td>0 days 07:11:23</td>\n      <td>0 days 07:24:39</td>\n      <td>0 days 07:00:24</td>\n      <td>0 days 07:17:23</td>\n      <td>0 days 07:29:04</td>\n      <td>0 days 07:15:46</td>\n      <td>0 days 07:49:52</td>\n      <td>...</td>\n      <td>0 days 08:00:00</td>\n      <td>0 days 07:20:21</td>\n      <td>0 days 07:23:45</td>\n      <td>0 days 06:30:17</td>\n      <td>0 days 07:35:47</td>\n      <td>0 days 08:00:00</td>\n      <td>0 days 07:46:26</td>\n      <td>0 days 07:18:54</td>\n      <td>0 days 07:46:44</td>\n      <td>0 days 07:04:49</td>\n    </tr>\n    <tr>\n      <th>1</th>\n      <td>0</td>\n      <td>0 days 08:00:00</td>\n      <td>0 days 08:06:33</td>\n      <td>0 days 07:27:17</td>\n      <td>0 days 08:00:00</td>\n      <td>0 days 07:23:49</td>\n      <td>0 days 07:25:00</td>\n      <td>0 days 07:09:03</td>\n      <td>0 days 07:36:41</td>\n      <td>0 days 07:16:44</td>\n      <td>...</td>\n      <td>0 days 07:54:11</td>\n      <td>0 days 07:45:14</td>\n      <td>0 days 07:42:44</td>\n      <td>0 days 07:26:08</td>\n      <td>0 days 08:00:00</td>\n      <td>0 days 08:00:00</td>\n      <td>0 days 07:36:53</td>\n      <td>0 days 07:58:57</td>\n      <td>0 days 07:59:10</td>\n      <td>0 days 08:13:38</td>\n    </tr>\n    <tr>\n      <th>2</th>\n      <td>0</td>\n      <td>0 days 08:00:00</td>\n      <td>0 days 06:41:33</td>\n      <td>0 days 07:15:56</td>\n      <td>0 days 06:24:19</td>\n      <td>0 days 06:45:54</td>\n      <td>0 days 07:20:42</td>\n      <td>0 days 06:51:41</td>\n      <td>0 days 07:25:07</td>\n      <td>0 days 06:59:59</td>\n      <td>...</td>\n      <td>0 days 06:47:09</td>\n      <td>0 days 07:09:49</td>\n      <td>0 days 06:48:06</td>\n      <td>0 days 06:43:49</td>\n      <td>0 days 06:50:59</td>\n      <td>0 days 08:00:00</td>\n      <td>0 days 07:01:26</td>\n      <td>0 days 07:26:20</td>\n      <td>0 days 07:32:20</td>\n      <td>0 days 06:47:11</td>\n    </tr>\n    <tr>\n      <th>3</th>\n      <td>0</td>\n      <td>0 days 08:00:00</td>\n      <td>0 days 07:20:18</td>\n      <td>0 days 07:17:31</td>\n      <td>0 days 06:56:35</td>\n      <td>0 days 06:55:10</td>\n      <td>0 days 06:51:03</td>\n      <td>0 days 07:11:35</td>\n      <td>0 days 06:59:55</td>\n      <td>0 days 07:18:23</td>\n      <td>...</td>\n      <td>0 days 07:37:45</td>\n      <td>0 days 06:50:48</td>\n      <td>0 days 07:19:35</td>\n      <td>0 days 07:24:49</td>\n      <td>0 days 07:05:06</td>\n      <td>0 days 08:00:00</td>\n      <td>0 days 07:26:50</td>\n      <td>0 days 07:25:00</td>\n      <td>0 days 07:21:59</td>\n      <td>0 days 07:07:59</td>\n    </tr>\n    <tr>\n      <th>4</th>\n      <td>0</td>\n      <td>0 days 08:00:00</td>\n      <td>0 days 08:03:20</td>\n      <td>0 days 07:59:17</td>\n      <td>0 days 07:40:57</td>\n      <td>0 days 07:48:22</td>\n      <td>0 days 07:39:44</td>\n      <td>0 days 07:43:18</td>\n      <td>0 days 08:21:54</td>\n      <td>0 days 08:15:26</td>\n      <td>...</td>\n      <td>0 days 07:54:13</td>\n      <td>0 days 07:39:54</td>\n      <td>0 days 07:57:27</td>\n      <td>0 days 07:47:13</td>\n      <td>0 days 08:14:58</td>\n      <td>0 days 08:00:00</td>\n      <td>0 days 07:39:44</td>\n      <td>0 days 08:16:07</td>\n      <td>0 days 07:57:12</td>\n      <td>0 days 08:01:05</td>\n    </tr>\n  </tbody>\n</table>\n<p>5 rows × 262 columns</p>\n</div>"
     },
     "execution_count": 19,
     "metadata": {},
     "output_type": "execute_result"
    }
   ],
   "source": [
    "from datetime import time\n",
    "\n",
    "inTimeCpy = in_time.copy()\n",
    "inTimeCpy = inTimeCpy.fillna(pd.to_datetime(\"09:00:00\"))\n",
    "outTimeCpy = out_time.copy()\n",
    "outTimeCpy = outTimeCpy.fillna(pd.to_datetime(\"17:00:00\"))\n",
    "\n",
    "for k in range(1,len(inTimeCpy.columns)):\n",
    "    inTimeCpy[inTimeCpy.columns[k]] = pd.to_datetime(inTimeCpy[inTimeCpy.columns[k]], format='%Y-%m-%d %H:%M:%S')\n",
    "for k in range(1,len(outTimeCpy.columns)):\n",
    "    outTimeCpy[outTimeCpy.columns[k]] = pd.to_datetime(outTimeCpy[outTimeCpy.columns[k]], format='%Y-%m-%d %H:%M:%S')\n",
    "\n",
    "deltaTime = outTimeCpy-inTimeCpy\n",
    "\n",
    "deltaTime.head()"
   ],
   "metadata": {
    "collapsed": false,
    "pycharm": {
     "name": "#%%\n"
    }
   }
  },
  {
   "cell_type": "code",
   "execution_count": 44,
   "outputs": [
    {
     "data": {
      "text/plain": "   EmployeeID  MeanWorkingTime\n0         1.0         7.363301\n1         2.0         8.077671\n2         3.0         7.110486\n3         4.0         7.275869\n4         5.0         8.011352",
      "text/html": "<div>\n<style scoped>\n    .dataframe tbody tr th:only-of-type {\n        vertical-align: middle;\n    }\n\n    .dataframe tbody tr th {\n        vertical-align: top;\n    }\n\n    .dataframe thead th {\n        text-align: right;\n    }\n</style>\n<table border=\"1\" class=\"dataframe\">\n  <thead>\n    <tr style=\"text-align: right;\">\n      <th></th>\n      <th>EmployeeID</th>\n      <th>MeanWorkingTime</th>\n    </tr>\n  </thead>\n  <tbody>\n    <tr>\n      <th>0</th>\n      <td>1.0</td>\n      <td>7.363301</td>\n    </tr>\n    <tr>\n      <th>1</th>\n      <td>2.0</td>\n      <td>8.077671</td>\n    </tr>\n    <tr>\n      <th>2</th>\n      <td>3.0</td>\n      <td>7.110486</td>\n    </tr>\n    <tr>\n      <th>3</th>\n      <td>4.0</td>\n      <td>7.275869</td>\n    </tr>\n    <tr>\n      <th>4</th>\n      <td>5.0</td>\n      <td>8.011352</td>\n    </tr>\n  </tbody>\n</table>\n</div>"
     },
     "execution_count": 44,
     "metadata": {},
     "output_type": "execute_result"
    }
   ],
   "source": [
    "meanWorkingTime = pd.DataFrame(data={'EmployeeID': [], 'MeanWorkingTime': []})\n",
    "\n",
    "for row in range(len(deltaTime)):\n",
    "    tempRow={'EmployeeID':0, 'MeanWorkingTime':0}\n",
    "    mean = 0\n",
    "    for col in range(1,len(deltaTime.columns)):\n",
    "        tempRow['EmployeeID'] = int(in_time[in_time.columns[0]][row])\n",
    "        if deltaTime[deltaTime.columns[col]][row] != 0:\n",
    "            if mean != 0:\n",
    "                mean = (mean+deltaTime[deltaTime.columns[col]][row])/2\n",
    "            else:\n",
    "                mean = deltaTime[deltaTime.columns[col]][row]\n",
    "    tempRow['MeanWorkingTime'] = mean.total_seconds() /3600\n",
    "    meanWorkingTime = meanWorkingTime.append(tempRow, ignore_index=True)\n",
    "\n",
    "meanWorkingTime.head()"
   ],
   "metadata": {
    "collapsed": false,
    "pycharm": {
     "name": "#%%\n"
    }
   }
  },
  {
   "cell_type": "code",
   "execution_count": 45,
   "outputs": [
    {
     "data": {
      "text/plain": "EmployeeID         float64\nMeanWorkingTime    float64\ndtype: object"
     },
     "execution_count": 45,
     "metadata": {},
     "output_type": "execute_result"
    }
   ],
   "source": [
    "meanWorkingTime.dtypes"
   ],
   "metadata": {
    "collapsed": false,
    "pycharm": {
     "name": "#%%\n"
    }
   }
  },
  {
   "cell_type": "code",
   "execution_count": 46,
   "outputs": [
    {
     "data": {
      "text/plain": "EmployeeID         0\nMeanWorkingTime    0\ndtype: int64"
     },
     "execution_count": 46,
     "metadata": {},
     "output_type": "execute_result"
    }
   ],
   "source": [
    "meanWorkingTime.isna().sum()"
   ],
   "metadata": {
    "collapsed": false,
    "pycharm": {
     "name": "#%%\n"
    }
   }
  },
  {
   "cell_type": "code",
   "execution_count": 51,
   "outputs": [
    {
     "data": {
      "text/plain": "<AxesSubplot:>"
     },
     "execution_count": 51,
     "metadata": {},
     "output_type": "execute_result"
    },
    {
     "data": {
      "text/plain": "<Figure size 432x288 with 1 Axes>",
      "image/png": "[encoded data removed]"
     },
     "metadata": {
      "needs_background": "light"
     },
     "output_type": "display_data"
    }
   ],
   "source": [
    "meanWorkingTime.MeanWorkingTime.hist()"
   ],
   "metadata": {
    "collapsed": false,
    "pycharm": {
     "name": "#%%\n"
    }
   }
  },
  {
   "cell_type": "code",
   "execution_count": 52,
   "outputs": [],
   "source": [
    "meanWorkingTime.to_csv(\"data_set_filter/mean_working_h.csv\")\n",
    "\n"
   ],
   "metadata": {
    "collapsed": false,
    "pycharm": {
     "name": "#%%\n"
    }
   }
  },
  {
   "cell_type": "code",
   "execution_count": null,
   "outputs": [],
   "source": [],
   "metadata": {
    "collapsed": false,
    "pycharm": {
     "name": "#%%\n"
    }
   }
  }
 ],
 "metadata": {
  "kernelspec": {
   "display_name": "Python 3",
   "language": "python",
   "name": "python3"
  },
  "language_info": {
   "codemirror_mode": {
    "name": "ipython",
    "version": 2
   },
   "file_extension": ".py",
   "mimetype": "text/x-python",
   "name": "python",
   "nbconvert_exporter": "python",
   "pygments_lexer": "ipython2",
   "version": "2.7.6"
  }
 },
 "nbformat": 4,
 "nbformat_minor": 0
}